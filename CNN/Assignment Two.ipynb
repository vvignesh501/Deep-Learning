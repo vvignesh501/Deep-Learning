{
 "cells": [
  {
   "cell_type": "markdown",
   "metadata": {},
   "source": [
    "## Deep Learning Course (980)\n",
    "## Assignment Two: Convolutional Neural Networks\n",
    "\n",
    "__Assignment Goals__:\n",
    "- Design and implementation of CNNs.\n",
    "- Understanding the different effects of linear and nonlinear activation functions.\n",
    "- CNN visualization.\n",
    "\n",
    "In this assignment, you will be asked to learn a CNN model for an image dataset. Different experiments will help you achieve a better understanding of CNNs. \n",
    "\n",
    "__DataSet__: the dataset consists of around 9K images (some grayscale and some RGB) belonging to 101 classes. The shape of each image is (64,64,3). Every image is labeled with one of the classes. The image file is contained in the folder named after the class name.\n",
    "\n",
    "1. We are aiming to lean a CNN on the dataset. Download the dataset, and use TensorFlow to implement LeNet5 to classify instances. Use a one-hot encoding for labels. Split the dataset into training (90 percent) and validation (10 percent) and report the model loss (cross-entropy) and accuracy on both sets. Try to improve model accuracy on the validation dataset by tuning the model hyperparameters. You can use regularization to prevent overfitting. The model performance is a part of the overall evaluation (35 points). The LeNet5 configuration is:\n",
    "  - Convolutional layer (kernel size 5 x 5, 32 filters, stride 1 x 1 and followed by ReLU)\n",
    "  - Max Pooling layer subsampling by 4 and stride 4 x 4 \n",
    "  - Convolutional layer (kernel size 5 x 5, 64 filters, stride 1 x 1 and followed by ReLU)\n",
    "  - Max Pooling layer subsampling by 4 and stride 4 x 4\n",
    "  - Fully Connected ReLU layer that has input 7764 and output 1024 \n",
    "  - Fully Connected ReLU layer that has input 1024 and output 84 \n",
    "  - Fully Connected Softmax layer that has input 84 and output which is equal to the number of classes (one node for each of the classes).\n",
    "2. What happens if we use a linear activation function in all convolutions and dense layers (except softmax in the last fully connected layer)? Compare training and validation loss (cross-entropy) after and before changing the activation function. Can we compensate for the effect of removing the non-linear activation function by adding more convolution linear layers? Explain your answer. (20 points)\n",
    "3. There are several approaches to understand and visualize convolutional Networks, including visualizing the activations and layers weights. The most straight-forward visualization technique is to show the activations of the network during the forward pass. The second most common strategy is to visualize the weights. The weights are useful to visualize because well-trained networks usually display nice and smooth filters without any noisy patterns.  Please visualize the filters (i.e., the first layer convolution weights) which your CNN has learned for this task. Use the trained non-linear CNN model which you implemented in section 1. (Reference: for more information we recommend the course notes on \"Visualizing what ConvNets learn\" http://cs231n.github.io/understanding-cnn/. More advanced techniques can be found in \"Visualizing and Understanding Convolutional Networks\" paper by Matthew D.Zeiler and Rob Fergus.) (35 points)\n",
    "\n",
    "__NOTE__: Please use Jupyter Notebook. The notebook should include the final code, results and your answers. You should submit your Notebook in (.pdf or .html) and .ipynb format. (10 points) \n",
    "\n",
    "__Instructions__:\n",
    "\n",
    "The university policy on academic dishonesty and plagiarism (cheating) will be taken very seriously in this course. Everything submitted should be your own writing or coding. You must not let other students copy your work. Spelling and grammar count.\n",
    "\n",
    "Your assignments will be marked based on correctness, originality (the implementations and ideas are from yourself), clarification and test performance.\n"
   ]
  },
  {
   "cell_type": "code",
   "execution_count": null,
   "metadata": {},
   "outputs": [],
   "source": []
  }
 ],
 "metadata": {
  "kernelspec": {
   "display_name": "Python 3",
   "language": "python",
   "name": "python3"
  },
  "language_info": {
   "codemirror_mode": {
    "name": "ipython",
    "version": 3
   },
   "file_extension": ".py",
   "mimetype": "text/x-python",
   "name": "python",
   "nbconvert_exporter": "python",
   "pygments_lexer": "ipython3",
   "version": "3.6.7"
  }
 },
 "nbformat": 4,
 "nbformat_minor": 2
}
